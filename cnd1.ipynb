{
 "cells": [
  {
   "cell_type": "markdown",
   "id": "c63bf2af-7c85-419f-a8b9-315307d68676",
   "metadata": {},
   "source": [
    "## PRINTING\n",
    "\n",
    "welcome"
   ]
  },
  {
   "cell_type": "code",
   "execution_count": 29,
   "id": "b97a2d4c-e734-4336-af0e-d94314f21e2c",
   "metadata": {},
   "outputs": [
    {
     "data": {
      "text/plain": [
       "30"
      ]
     },
     "execution_count": 29,
     "metadata": {},
     "output_type": "execute_result"
    }
   ],
   "source": [
    "a = 10\n",
    "b = 20\n",
    "a + b"
   ]
  },
  {
   "cell_type": "markdown",
   "id": "d6fe483a-50e4-4f00-b1d9-3b0c6505b46f",
   "metadata": {},
   "source": [
    "## VARIABLES\n"
   ]
  },
  {
   "cell_type": "code",
   "execution_count": 24,
   "id": "f6eba57d-6626-4c99-927f-09792279c05b",
   "metadata": {},
   "outputs": [
    {
     "name": "stdout",
     "output_type": "stream",
     "text": [
      "30\n",
      "<class 'int'>\n"
     ]
    }
   ],
   "source": [
    "a = 10\n",
    "b = 20\n",
    "a + b\n",
    "print(a+b)\n",
    "print(type(a))"
   ]
  },
  {
   "cell_type": "code",
   "execution_count": 25,
   "id": "8eef26fe-b7aa-4f50-b22c-40653faae367",
   "metadata": {},
   "outputs": [
    {
     "name": "stdout",
     "output_type": "stream",
     "text": [
      "140705182722776\n",
      "140705182722808\n",
      "140705182722776\n"
     ]
    }
   ],
   "source": [
    "a = 10\n",
    "print(id(a))\n",
    "a = a+1\n",
    "print(id(a))\n",
    "b = 10\n",
    "print(id(b))\n",
    "# only for -5 to 256"
   ]
  },
  {
   "cell_type": "code",
   "execution_count": 3,
   "id": "50a6986c-e1e4-4590-81eb-0ff6bbeca460",
   "metadata": {},
   "outputs": [
    {
     "name": "stdout",
     "output_type": "stream",
     "text": [
      "100000\n",
      "2.0\n",
      "2\n"
     ]
    }
   ],
   "source": [
    "a = 10 \n",
    "b = 5\n",
    "print(a**b)\n",
    "print(a/b)\n",
    "print(a//b)"
   ]
  },
  {
   "cell_type": "code",
   "execution_count": 3,
   "id": "19de1fd6-665a-43bc-8503-f04bcaf744da",
   "metadata": {},
   "outputs": [
    {
     "name": "stdout",
     "output_type": "stream",
     "text": [
      "20\n",
      "14\n"
     ]
    }
   ],
   "source": [
    "print((2+3)*4)\n",
    "print(2+3*4)"
   ]
  },
  {
   "cell_type": "markdown",
   "id": "12a4394a-5ff6-4681-9482-1e58fec6b539",
   "metadata": {},
   "source": [
    "### INPUT"
   ]
  },
  {
   "cell_type": "code",
   "execution_count": 1,
   "id": "4a510575-b89e-4e9e-84ba-85fd2f48a95d",
   "metadata": {},
   "outputs": [
    {
     "name": "stdin",
     "output_type": "stream",
     "text": [
      " 2\n",
      " 4\n"
     ]
    },
    {
     "name": "stdout",
     "output_type": "stream",
     "text": [
      "6\n"
     ]
    }
   ],
   "source": [
    "a = int(input())\n",
    "b = int(input())\n",
    "sum = a + b \n",
    "print(sum)"
   ]
  },
  {
   "cell_type": "markdown",
   "id": "417a472f-e366-425b-9aad-ae54cb0fa622",
   "metadata": {},
   "source": [
    "## STRING"
   ]
  },
  {
   "cell_type": "code",
   "execution_count": 9,
   "id": "23c8fa26-185b-410f-8b26-1d0ebcee7433",
   "metadata": {},
   "outputs": [
    {
     "name": "stdout",
     "output_type": "stream",
     "text": [
      "a\n",
      "b\n",
      "c\n",
      " \n",
      "d\n",
      "e\n",
      "f\n"
     ]
    }
   ],
   "source": [
    "z = \"abc def\"\n",
    "for i in z:\n",
    "    print(i)"
   ]
  },
  {
   "cell_type": "code",
   "execution_count": 5,
   "id": "b2522247-c0d9-43cd-89be-51f382999041",
   "metadata": {},
   "outputs": [
    {
     "name": "stdout",
     "output_type": "stream",
     "text": [
      "my name's dhruv\n"
     ]
    }
   ],
   "source": [
    "a = \"my name's dhruv\"\n",
    "print(a)"
   ]
  },
  {
   "cell_type": "code",
   "execution_count": 34,
   "id": "39020f57-af2c-49ec-91cb-0f6285f33ba4",
   "metadata": {},
   "outputs": [
    {
     "name": "stdout",
     "output_type": "stream",
     "text": [
      "hellos i am dhruv's friend\n"
     ]
    }
   ],
   "source": [
    "a = \"hellos \"\n",
    "b = \"i am dhruv's friend\"\n",
    "print(a+b)\n"
   ]
  },
  {
   "cell_type": "code",
   "execution_count": null,
   "id": "53cf2b91-1e61-4d97-8c2b-01472abca510",
   "metadata": {},
   "outputs": [],
   "source": []
  },
  {
   "cell_type": "code",
   "execution_count": 17,
   "id": "0e6105e2-35ba-4e0f-a488-94155721691a",
   "metadata": {},
   "outputs": [
    {
     "data": {
      "text/plain": [
       "['i ', \" dhruv's friend\"]"
      ]
     },
     "execution_count": 17,
     "metadata": {},
     "output_type": "execute_result"
    }
   ],
   "source": [
    " #split func\n",
    "b.split(\"am\")"
   ]
  },
  {
   "cell_type": "code",
   "execution_count": 27,
   "id": "4cdd7465-c17f-420b-9746-da7380d9de0b",
   "metadata": {},
   "outputs": [
    {
     "data": {
      "text/plain": [
       "'gracias'"
      ]
     },
     "execution_count": 27,
     "metadata": {},
     "output_type": "execute_result"
    }
   ],
   "source": [
    "a = \"hellos \"\n",
    "b = a.replace(\"hellos \", \"gracias\")\n",
    "b"
   ]
  },
  {
   "cell_type": "code",
   "execution_count": 38,
   "id": "7c568ebb-9131-4a0b-b49a-3f1991c202c7",
   "metadata": {},
   "outputs": [
    {
     "data": {
      "text/plain": [
       "13"
      ]
     },
     "execution_count": 38,
     "metadata": {},
     "output_type": "execute_result"
    }
   ],
   "source": [
    "b.find(\"friend\")"
   ]
  },
  {
   "cell_type": "code",
   "execution_count": null,
   "id": "419f183b-d126-4398-b73a-f6b5881789ce",
   "metadata": {},
   "outputs": [],
   "source": [
    "#.lower.upper.isupper.islower\n",
    "#isalpha() if contains alphabets\n",
    "#.startwith().endswith()"
   ]
  },
  {
   "cell_type": "markdown",
   "id": "4d60dd55-7259-41ba-bef6-077744597423",
   "metadata": {},
   "source": [
    "## DICTIONARY"
   ]
  },
  {
   "cell_type": "code",
   "execution_count": null,
   "id": "fac5469c-3f2e-4f46-b818-b4039b6bcb75",
   "metadata": {},
   "outputs": [],
   "source": []
  },
  {
   "cell_type": "code",
   "execution_count": null,
   "id": "1f444259-05fe-4014-9f67-58a2aeb7b239",
   "metadata": {},
   "outputs": [],
   "source": []
  },
  {
   "cell_type": "code",
   "execution_count": null,
   "id": "c25dda31-a288-4504-9e6e-6a90cc359a4d",
   "metadata": {},
   "outputs": [],
   "source": []
  },
  {
   "cell_type": "code",
   "execution_count": null,
   "id": "a3bd2568-58d5-4d17-a33f-1dcb577a2040",
   "metadata": {},
   "outputs": [],
   "source": []
  },
  {
   "cell_type": "code",
   "execution_count": null,
   "id": "e01fabbe-f535-4e96-b467-0e3f20b5a357",
   "metadata": {},
   "outputs": [],
   "source": []
  },
  {
   "cell_type": "code",
   "execution_count": null,
   "id": "6d3bb9b1-738a-4d95-a315-ded1c40499b8",
   "metadata": {},
   "outputs": [],
   "source": []
  }
 ],
 "metadata": {
  "kernelspec": {
   "display_name": "Python 3 (ipykernel)",
   "language": "python",
   "name": "python3"
  },
  "language_info": {
   "codemirror_mode": {
    "name": "ipython",
    "version": 3
   },
   "file_extension": ".py",
   "mimetype": "text/x-python",
   "name": "python",
   "nbconvert_exporter": "python",
   "pygments_lexer": "ipython3",
   "version": "3.12.7"
  }
 },
 "nbformat": 4,
 "nbformat_minor": 5
}
